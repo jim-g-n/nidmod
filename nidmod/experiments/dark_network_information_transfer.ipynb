{
 "cells": [
  {
   "cell_type": "markdown",
   "id": "bcbd281e",
   "metadata": {},
   "source": [
    "## Dark Network Information Transfer"
   ]
  },
  {
   "cell_type": "markdown",
   "id": "b25750de",
   "metadata": {},
   "source": [
    "This experiment tests the impact that different data integration setups can have on the ability of a partially-synthetic dark network to transfer information"
   ]
  },
  {
   "cell_type": "markdown",
   "id": "76208af6",
   "metadata": {},
   "source": [
    "We use the combination builder, parameter sweeper, multiple network diffusion, and custom diffusion model"
   ]
  },
  {
   "cell_type": "code",
   "execution_count": 1,
   "id": "e2029227",
   "metadata": {},
   "outputs": [
    {
     "name": "stdout",
     "output_type": "stream",
     "text": [
      "no display found. Using non-interactive Agg backend\n",
      "no display found. Using non-interactive Agg backend\n"
     ]
    }
   ],
   "source": [
    "import pandas as pd\n",
    "import numpy as np\n",
    "import networkx as nx\n",
    "\n",
    "from nidmod.parameter_sweeper import CombinationBuilder, ParameterSweeper"
   ]
  },
  {
   "cell_type": "markdown",
   "id": "be928c1c",
   "metadata": {},
   "source": [
    "We have a dataframe (df) with duplicate entries from FEBRL imported through recordlinkage toolkit. We have an associated graph (BA randomly generated) and the true matches"
   ]
  },
  {
   "cell_type": "code",
   "execution_count": 2,
   "id": "45d6da80",
   "metadata": {},
   "outputs": [],
   "source": [
    "febrl_df = pd.read_csv('febrl_df.csv')\n",
    "febrl_df.index = febrl_df.rec_id\n",
    "febrl_df = febrl_df.drop(columns = ['rec_id'])\n",
    "\n",
    "all_matches = np.load('febrl_matches.npy', allow_pickle = True)\n",
    "all_matches = pd.MultiIndex.from_tuples(all_matches)\n",
    "\n",
    "febrl_graph = nx.read_gml('febrl_graph.gml')"
   ]
  },
  {
   "cell_type": "code",
   "execution_count": 3,
   "id": "cd19581c",
   "metadata": {},
   "outputs": [
    {
     "data": {
      "text/html": [
       "<div>\n",
       "<style scoped>\n",
       "    .dataframe tbody tr th:only-of-type {\n",
       "        vertical-align: middle;\n",
       "    }\n",
       "\n",
       "    .dataframe tbody tr th {\n",
       "        vertical-align: top;\n",
       "    }\n",
       "\n",
       "    .dataframe thead th {\n",
       "        text-align: right;\n",
       "    }\n",
       "</style>\n",
       "<table border=\"1\" class=\"dataframe\">\n",
       "  <thead>\n",
       "    <tr style=\"text-align: right;\">\n",
       "      <th></th>\n",
       "      <th>given_name</th>\n",
       "      <th>surname</th>\n",
       "      <th>street_number</th>\n",
       "      <th>address_1</th>\n",
       "      <th>address_2</th>\n",
       "      <th>suburb</th>\n",
       "      <th>postcode</th>\n",
       "      <th>state</th>\n",
       "      <th>date_of_birth</th>\n",
       "      <th>soc_sec_id</th>\n",
       "    </tr>\n",
       "    <tr>\n",
       "      <th>rec_id</th>\n",
       "      <th></th>\n",
       "      <th></th>\n",
       "      <th></th>\n",
       "      <th></th>\n",
       "      <th></th>\n",
       "      <th></th>\n",
       "      <th></th>\n",
       "      <th></th>\n",
       "      <th></th>\n",
       "      <th></th>\n",
       "    </tr>\n",
       "  </thead>\n",
       "  <tbody>\n",
       "    <tr>\n",
       "      <th>rec-223-org</th>\n",
       "      <td>NaN</td>\n",
       "      <td>waller</td>\n",
       "      <td>6.0</td>\n",
       "      <td>tullaroop street</td>\n",
       "      <td>willaroo</td>\n",
       "      <td>st james</td>\n",
       "      <td>4011</td>\n",
       "      <td>wa</td>\n",
       "      <td>19081209.0</td>\n",
       "      <td>6988048</td>\n",
       "    </tr>\n",
       "    <tr>\n",
       "      <th>rec-122-org</th>\n",
       "      <td>lachlan</td>\n",
       "      <td>berry</td>\n",
       "      <td>69.0</td>\n",
       "      <td>giblin street</td>\n",
       "      <td>killarney</td>\n",
       "      <td>bittern</td>\n",
       "      <td>4814</td>\n",
       "      <td>qld</td>\n",
       "      <td>19990219.0</td>\n",
       "      <td>7364009</td>\n",
       "    </tr>\n",
       "    <tr>\n",
       "      <th>rec-373-org</th>\n",
       "      <td>deakin</td>\n",
       "      <td>sondergeld</td>\n",
       "      <td>48.0</td>\n",
       "      <td>goldfinch circuit</td>\n",
       "      <td>kooltuo</td>\n",
       "      <td>canterbury</td>\n",
       "      <td>2776</td>\n",
       "      <td>vic</td>\n",
       "      <td>19600210.0</td>\n",
       "      <td>2635962</td>\n",
       "    </tr>\n",
       "    <tr>\n",
       "      <th>rec-10-dup-0</th>\n",
       "      <td>kayla</td>\n",
       "      <td>harrington</td>\n",
       "      <td>NaN</td>\n",
       "      <td>maltby circuit</td>\n",
       "      <td>coaling</td>\n",
       "      <td>coolaroo</td>\n",
       "      <td>3465</td>\n",
       "      <td>nsw</td>\n",
       "      <td>19150612.0</td>\n",
       "      <td>9004242</td>\n",
       "    </tr>\n",
       "    <tr>\n",
       "      <th>rec-227-org</th>\n",
       "      <td>luke</td>\n",
       "      <td>purdon</td>\n",
       "      <td>23.0</td>\n",
       "      <td>ramsay place</td>\n",
       "      <td>mirani</td>\n",
       "      <td>garbutt</td>\n",
       "      <td>2260</td>\n",
       "      <td>vic</td>\n",
       "      <td>19831024.0</td>\n",
       "      <td>8099933</td>\n",
       "    </tr>\n",
       "  </tbody>\n",
       "</table>\n",
       "</div>"
      ],
      "text/plain": [
       "             given_name     surname  street_number          address_1  \\\n",
       "rec_id                                                                  \n",
       "rec-223-org         NaN      waller            6.0   tullaroop street   \n",
       "rec-122-org     lachlan       berry           69.0      giblin street   \n",
       "rec-373-org      deakin  sondergeld           48.0  goldfinch circuit   \n",
       "rec-10-dup-0      kayla  harrington            NaN     maltby circuit   \n",
       "rec-227-org        luke      purdon           23.0       ramsay place   \n",
       "\n",
       "              address_2      suburb  postcode state  date_of_birth  soc_sec_id  \n",
       "rec_id                                                                          \n",
       "rec-223-org    willaroo    st james      4011    wa     19081209.0     6988048  \n",
       "rec-122-org   killarney     bittern      4814   qld     19990219.0     7364009  \n",
       "rec-373-org     kooltuo  canterbury      2776   vic     19600210.0     2635962  \n",
       "rec-10-dup-0    coaling    coolaroo      3465   nsw     19150612.0     9004242  \n",
       "rec-227-org      mirani     garbutt      2260   vic     19831024.0     8099933  "
      ]
     },
     "execution_count": 3,
     "metadata": {},
     "output_type": "execute_result"
    }
   ],
   "source": [
    "febrl_df.head()"
   ]
  },
  {
   "cell_type": "markdown",
   "id": "564c8422",
   "metadata": {},
   "source": [
    "We add the attributes from the df to the network"
   ]
  },
  {
   "cell_type": "code",
   "execution_count": 4,
   "id": "d928400a",
   "metadata": {},
   "outputs": [],
   "source": [
    "febrl_dict = febrl_df.to_dict()\n",
    "febrl_graph_attr = febrl_graph.copy()\n",
    "\n",
    "for attribute in febrl_dict:\n",
    "    nx.set_node_attributes(febrl_graph_attr, febrl_dict[attribute], attribute)"
   ]
  },
  {
   "cell_type": "markdown",
   "id": "bf21d2ec",
   "metadata": {},
   "source": [
    "We define the different integration setups. We define two different blocking setups and two attribute comparison setups."
   ]
  },
  {
   "cell_type": "code",
   "execution_count": 7,
   "id": "bfffa2cf",
   "metadata": {},
   "outputs": [],
   "source": [
    "# different indexing setups\n",
    "index_setup_0 = {'Block': [['given_name', 'given_name']]}\n",
    "index_setup_1 = {'Block': [['surname', 'surname']]}\n",
    "all_index_setups = [index_setup_0, index_setup_1]\n",
    "\n",
    "# different comparison setups\n",
    "compare_setup_0 = {'Exact':  [['given_name', 'given_name'], \n",
    "                              ['date_of_birth', 'date_of_birth'],\n",
    "                              ['suburb', 'suburb'], ['state', 'state']],\n",
    "                'String': [['surname', 'surname', 'jarowinkler', 0.85], \n",
    "                           ['address_1', 'address_1', 'levenshtein', 0.85]]}\n",
    "\n",
    "compare_setup_1 = {'Exact':  [['surname', 'surname'], ['suburb', 'suburb'], \n",
    "                              ['state', 'state']],\n",
    "                'String': [['given_name', 'given_name', 'jarowinkler', 0.85], \n",
    "                           ['address_1', 'address_1', 'levenshtein', 0.85]]}\n",
    "\n",
    "all_compare_setups = [compare_setup_0, compare_setup_1]\n",
    "\n",
    "# different classifier setups\n",
    "classifier_name_0 = 'NaiveBayesClassifier'\n",
    "all_classifier_names = [classifier_name_0]\n",
    "\n",
    "# clustering algorithms\n",
    "clustering_algs = ['walktrap_integration']\n",
    "\n",
    "# building all combinations\n",
    "from nidmod.parameter_sweeper import CombinationBuilder\n",
    "combination_builder = CombinationBuilder(all_index_setups, all_compare_setups, \n",
    "                                        all_classifier_names, clustering_algs)\n",
    "integration_setups = combination_builder.get_all_combinations()\n",
    "\n",
    "# integrating according to different integration setups\n",
    "from nidmod.parameter_sweeper import ParameterSweeper\n",
    "\n",
    "graphs = [febrl_graph_attr]\n",
    "\n",
    "training_matches = np.random.choice(all_matches, replace = False, size = int(0.25*len(all_matches)))\n",
    "training_matches = pd.MultiIndex.from_tuples(training_matches)\n",
    "\n",
    "parameter_sweeper = ParameterSweeper(integration_setups, graphs, training_matches)\n",
    "different_integrated_networks = parameter_sweeper.get_integrated_networks()"
   ]
  },
  {
   "cell_type": "markdown",
   "id": "5ccede49",
   "metadata": {},
   "source": [
    "We define the algorithm to testing information transfer."
   ]
  },
  {
   "cell_type": "code",
   "execution_count": null,
   "id": "b2f6f4ef",
   "metadata": {},
   "outputs": [],
   "source": [
    "from cdlib import algorithms\n",
    "def packet_transfer_sims(networks, q, num_packets = 1000):\n",
    "    times_taken_df = pd.DataFrame()\n",
    "    for network in networks:\n",
    "        T = len(network.nodes())\n",
    "        times_taken = []\n",
    "        delivered = []\n",
    "        for sim_num in range(num_packets):\n",
    "            network_nodes = list(network.nodes())\n",
    "            source_node = np.random.choice(network_nodes)\n",
    "            network_nodes.remove(source_node)\n",
    "            target_node = np.random.choice(network_nodes)\n",
    "            current_node = source_node\n",
    "            target_node_comm = [x for x in algorithms.walktrap(network).communities if target_node in x][0]\n",
    "            t = 0\n",
    "            while t < T:\n",
    "                node_neighborhood = [n for n in network.neighbors(current_node)]\n",
    "                node_overlaps = [x for x in node_neighborhood if x in target_node_comm]\n",
    "                if not node_neighborhood:\n",
    "                    t = T\n",
    "                    break\n",
    "                if target_node in node_neighborhood and np.random.uniform() < (1-q):\n",
    "                    current_node = target_node\n",
    "                    t += 1\n",
    "                    break\n",
    "                elif node_overlaps and np.random.uniform() < (1-q):\n",
    "                    current_node = np.random.choice(node_overlaps)\n",
    "                else:\n",
    "                    current_node = np.random.choice(node_neighborhood)\n",
    "                t += 1\n",
    "            times_taken.append(t)\n",
    "            delivered.append(t < T)\n",
    "        times_taken_df = times_taken_df.append({'times': times_taken, 'delivered': delivered,'T': T, 'num_packets': num_packets}, ignore_index=True)\n",
    "    return times_taken_df"
   ]
  },
  {
   "cell_type": "markdown",
   "id": "861b2241",
   "metadata": {},
   "source": [
    "We execute the algorithm on each of the integrated networks and calculate average measures."
   ]
  },
  {
   "cell_type": "code",
   "execution_count": null,
   "id": "455077ff",
   "metadata": {},
   "outputs": [],
   "source": [
    "q = 0.2\n",
    "times_taken_df = packet_transfer_sims(different_integrated_networks, q, num_packets = 10000)\n",
    "times_taken_df.index = ['integration_setup_0', 'integration_setup_1', 'integration_setup_2', 'integration_setup_3']\n",
    "times_taken_df['proportion_delivered'] = times_taken_df.delivered.apply(lambda x: np.mean(x))\n",
    "times_taken_df['inv_ave_delivery_time'] = [1/times_taken_df.num_packets[i] * (np.array([1/x for x in times_taken_df.times[i]])[times_taken_df.delivered[i]]).sum() for i in range(len(times_taken_df))]"
   ]
  }
 ],
 "metadata": {
  "kernelspec": {
   "display_name": "Python 3 (ipykernel)",
   "language": "python",
   "name": "python3"
  },
  "language_info": {
   "codemirror_mode": {
    "name": "ipython",
    "version": 3
   },
   "file_extension": ".py",
   "mimetype": "text/x-python",
   "name": "python",
   "nbconvert_exporter": "python",
   "pygments_lexer": "ipython3",
   "version": "3.8.8"
  }
 },
 "nbformat": 4,
 "nbformat_minor": 5
}
