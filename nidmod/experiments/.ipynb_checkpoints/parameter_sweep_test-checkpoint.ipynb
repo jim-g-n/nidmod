{
 "cells": [
  {
   "cell_type": "code",
   "execution_count": 2,
   "id": "e2029227",
   "metadata": {},
   "outputs": [
    {
     "name": "stdout",
     "output_type": "stream",
     "text": [
      "no display found. Using non-interactive Agg backend\n",
      "no display found. Using non-interactive Agg backend\n"
     ]
    }
   ],
   "source": [
    "import sys\n",
    "sys.path.append(\"C:/Users/jnevin/Documents/GitHub/nidmod\")\n",
    "\n",
    "from nidmod.parameter_sweeper import CombinationBuilder, ParameterSweeper, MultiNetworkDiffusion\n",
    "from nidmod.diffusionmodel.diffusionmodel import CustomDiffusionModel\n",
    "%matplotlib inline"
   ]
  },
  {
   "cell_type": "code",
   "execution_count": 3,
   "id": "45d6da80",
   "metadata": {},
   "outputs": [],
   "source": [
    "import pandas as pd\n",
    "import numpy as np\n",
    "import networkx as nx\n",
    "\n",
    "test_df = pd.read_csv('dedup_test_df.csv')\n",
    "test_df.index = test_df.rec_id\n",
    "test_df = test_df.drop(columns = ['rec_id'])\n",
    "\n",
    "test_matches = np.load('dedup_test_matches.npy', allow_pickle = True)\n",
    "test_matches = pd.MultiIndex.from_tuples(test_matches)\n",
    "\n",
    "test_graph = nx.read_gml('dedup_test_graph.gml')"
   ]
  },
  {
   "cell_type": "code",
   "execution_count": 4,
   "id": "d928400a",
   "metadata": {},
   "outputs": [],
   "source": [
    "test_dict = test_df.to_dict()\n",
    "full_graph_attr = test_graph.copy()\n",
    "\n",
    "for attribute in test_dict:\n",
    "    nx.set_node_attributes(full_graph_attr, test_dict[attribute], attribute)"
   ]
  },
  {
   "cell_type": "code",
   "execution_count": 5,
   "id": "afcd18e8",
   "metadata": {},
   "outputs": [],
   "source": [
    "# different blocking setups\n",
    "test_block_0 = {'Block': [['given_name', 'given_name']]}\n",
    "test_block_1 = {'Block': [['surname', 'surname']]}\n",
    "all_test_blocks = [test_block_0, test_block_1]\n",
    "\n",
    "# different comparison setups\n",
    "test_compare_0 = {'Exact':  [['given_name', 'given_name'], ['date_of_birth', 'date_of_birth'],\n",
    "                          ['suburb', 'suburb'], ['state', 'state']],\n",
    "                'String': [['surname', 'surname', 'jarowinkler', 0.85], ['address_1', 'address_1', 'levenshtein', 0.85]]}\n",
    "\n",
    "test_compare_1 = {'Exact':  [['surname', 'surname'], ['suburb', 'suburb'], ['state', 'state']],\n",
    "                'String': [['given_name', 'given_name', 'jarowinkler', 0.85], ['address_1', 'address_1', 'levenshtein', 0.85]]}\n",
    "\n",
    "all_test_compares = [test_compare_0, test_compare_1]\n",
    "\n",
    "# different classifier setups\n",
    "classifier_name_0 = 'NaiveBayesClassifier'\n",
    "classifier_name_1 = 'LogisticRegressionClassifier'\n",
    "all_classifier_names = [classifier_name_0, classifier_name_1]\n",
    "\n",
    "# clustering algorithms\n",
    "clustering_algs = ['walktrap_integration']"
   ]
  },
  {
   "cell_type": "code",
   "execution_count": 6,
   "id": "04e51dd9",
   "metadata": {},
   "outputs": [],
   "source": [
    "combination_builder = CombinationBuilder(all_test_blocks, all_test_compares, all_classifier_names, clustering_algs)\n",
    "integration_setups = combination_builder.get_all_combinations()\n",
    "\n",
    "graphs = [full_graph_attr]\n",
    "training_matches = test_matches\n",
    "\n",
    "parameter_sweeper = ParameterSweeper(integration_setups, graphs, training_matches)\n",
    "different_integrated_networks = parameter_sweeper.get_integrated_networks()"
   ]
  },
  {
   "cell_type": "code",
   "execution_count": 7,
   "id": "c73cb451",
   "metadata": {},
   "outputs": [
    {
     "data": {
      "text/plain": [
       "[<networkx.classes.graph.Graph at 0x23ead2aa8e0>,\n",
       " <networkx.classes.graph.Graph at 0x23eca0ce880>,\n",
       " <networkx.classes.graph.Graph at 0x23ecabbebe0>,\n",
       " <networkx.classes.graph.Graph at 0x23ec9e624c0>,\n",
       " <networkx.classes.graph.Graph at 0x23ecabbedc0>,\n",
       " <networkx.classes.graph.Graph at 0x23ecabc9ac0>,\n",
       " <networkx.classes.graph.Graph at 0x23eca0e8ac0>,\n",
       " <networkx.classes.graph.Graph at 0x23eca0a48e0>]"
      ]
     },
     "execution_count": 7,
     "metadata": {},
     "output_type": "execute_result"
    }
   ],
   "source": [
    "different_integrated_networks"
   ]
  },
  {
   "cell_type": "code",
   "execution_count": 8,
   "id": "21adde4d",
   "metadata": {},
   "outputs": [],
   "source": [
    "# all the other features of the pipeline \n",
    "statuses = ['Susceptible', 'Infected', 'Removed']\n",
    "compartments = {'NodeStochastic': {'c1': [0.02, 'Infected'], 'c2': [0.01]}}\n",
    "transition_rules = [[\"Susceptible\", \"Infected\", \"c1\"], [\"Infected\", \"Removed\", \"c2\"]]\n",
    "model_parameters = [['fraction_infected', 0.1]]\n",
    "simulation_parameters = [5, 600, None, 5]\n",
    "model_name = 'sir'\n",
    "\n",
    "custom_diffusion_model = CustomDiffusionModel(statuses, compartments,\n",
    "                                             transition_rules, model_parameters)\n",
    "# custom_diffusion_model = CustomDiffusionModel.SIR(0.02, 0.01, 0.1)"
   ]
  },
  {
   "cell_type": "code",
   "execution_count": 9,
   "id": "6388146c",
   "metadata": {},
   "outputs": [],
   "source": [
    "multi_network_diffusion = MultiNetworkDiffusion(different_integrated_networks, custom_diffusion_model)\n",
    "graph_assc_results_analysers = multi_network_diffusion.run_diffusion_model(simulation_parameters)"
   ]
  },
  {
   "cell_type": "code",
   "execution_count": 10,
   "id": "2fb11de6",
   "metadata": {},
   "outputs": [
    {
     "data": {
      "text/html": [
       "<div>\n",
       "<style scoped>\n",
       "    .dataframe tbody tr th:only-of-type {\n",
       "        vertical-align: middle;\n",
       "    }\n",
       "\n",
       "    .dataframe tbody tr th {\n",
       "        vertical-align: top;\n",
       "    }\n",
       "\n",
       "    .dataframe thead th {\n",
       "        text-align: right;\n",
       "    }\n",
       "</style>\n",
       "<table border=\"1\" class=\"dataframe\">\n",
       "  <thead>\n",
       "    <tr style=\"text-align: right;\">\n",
       "      <th></th>\n",
       "      <th>Susceptible_peak</th>\n",
       "      <th>Infected_peak</th>\n",
       "      <th>Removed_peak</th>\n",
       "      <th>Susceptible_final</th>\n",
       "      <th>Infected_final</th>\n",
       "      <th>Removed_final</th>\n",
       "    </tr>\n",
       "  </thead>\n",
       "  <tbody>\n",
       "    <tr>\n",
       "      <th>0</th>\n",
       "      <td>0.900302</td>\n",
       "      <td>0.365257</td>\n",
       "      <td>0.822659</td>\n",
       "      <td>0.173414</td>\n",
       "      <td>0.003927</td>\n",
       "      <td>0.822659</td>\n",
       "    </tr>\n",
       "    <tr>\n",
       "      <th>1</th>\n",
       "      <td>0.900000</td>\n",
       "      <td>0.342703</td>\n",
       "      <td>0.759189</td>\n",
       "      <td>0.234054</td>\n",
       "      <td>0.006757</td>\n",
       "      <td>0.759189</td>\n",
       "    </tr>\n",
       "    <tr>\n",
       "      <th>2</th>\n",
       "      <td>0.900000</td>\n",
       "      <td>0.340580</td>\n",
       "      <td>0.774493</td>\n",
       "      <td>0.221739</td>\n",
       "      <td>0.003768</td>\n",
       "      <td>0.774493</td>\n",
       "    </tr>\n",
       "  </tbody>\n",
       "</table>\n",
       "</div>"
      ],
      "text/plain": [
       "   Susceptible_peak  Infected_peak  Removed_peak  Susceptible_final  \\\n",
       "0          0.900302       0.365257      0.822659           0.173414   \n",
       "1          0.900000       0.342703      0.759189           0.234054   \n",
       "2          0.900000       0.340580      0.774493           0.221739   \n",
       "\n",
       "   Infected_final  Removed_final  \n",
       "0        0.003927       0.822659  \n",
       "1        0.006757       0.759189  \n",
       "2        0.003768       0.774493  "
      ]
     },
     "execution_count": 10,
     "metadata": {},
     "output_type": "execute_result"
    }
   ],
   "source": [
    "graph_assc_results_analysers.get_average_stat_comparison([0,1,2])"
   ]
  },
  {
   "cell_type": "code",
   "execution_count": 11,
   "id": "50d9f357",
   "metadata": {},
   "outputs": [
    {
     "data": {
      "text/html": [
       "<div>\n",
       "<style scoped>\n",
       "    .dataframe tbody tr th:only-of-type {\n",
       "        vertical-align: middle;\n",
       "    }\n",
       "\n",
       "    .dataframe tbody tr th {\n",
       "        vertical-align: top;\n",
       "    }\n",
       "\n",
       "    .dataframe thead th {\n",
       "        text-align: right;\n",
       "    }\n",
       "</style>\n",
       "<table border=\"1\" class=\"dataframe\">\n",
       "  <thead>\n",
       "    <tr style=\"text-align: right;\">\n",
       "      <th></th>\n",
       "      <th>num_nodes</th>\n",
       "      <th>num_edges</th>\n",
       "      <th>connected</th>\n",
       "      <th>degree_cent</th>\n",
       "      <th>betweenness</th>\n",
       "      <th>closeness</th>\n",
       "    </tr>\n",
       "  </thead>\n",
       "  <tbody>\n",
       "    <tr>\n",
       "      <th>0</th>\n",
       "      <td>662</td>\n",
       "      <td>996</td>\n",
       "      <td>False</td>\n",
       "      <td>{'rec-223-org': 0.024205748865355523, 'rec-122...</td>\n",
       "      <td>{'rec-223-org': 0.04745773944471739, 'rec-122-...</td>\n",
       "      <td>{'rec-223-org': 0.2743206913940911, 'rec-122-o...</td>\n",
       "    </tr>\n",
       "    <tr>\n",
       "      <th>1</th>\n",
       "      <td>740</td>\n",
       "      <td>996</td>\n",
       "      <td>False</td>\n",
       "      <td>{'rec-223-org': 0.02165087956698241, 'rec-122-...</td>\n",
       "      <td>{'rec-223-org': 0.05146418050719634, 'rec-122-...</td>\n",
       "      <td>{'rec-223-org': 0.2587759313803971, 'rec-122-o...</td>\n",
       "    </tr>\n",
       "    <tr>\n",
       "      <th>2</th>\n",
       "      <td>690</td>\n",
       "      <td>996</td>\n",
       "      <td>False</td>\n",
       "      <td>{'rec-223-org': 0.023222060957910014, 'rec-122...</td>\n",
       "      <td>{'rec-223-org': 0.04622736779569342, 'rec-122-...</td>\n",
       "      <td>{'rec-223-org': 0.2674329526093267, 'rec-122-o...</td>\n",
       "    </tr>\n",
       "    <tr>\n",
       "      <th>3</th>\n",
       "      <td>822</td>\n",
       "      <td>996</td>\n",
       "      <td>False</td>\n",
       "      <td>{'rec-223-org': 0.0194884287454324, 'rec-122-o...</td>\n",
       "      <td>{'rec-223-org': 0.051609163630420764, 'rec-122...</td>\n",
       "      <td>{'rec-223-org': 0.23154568806454334, 'rec-122-...</td>\n",
       "    </tr>\n",
       "    <tr>\n",
       "      <th>4</th>\n",
       "      <td>664</td>\n",
       "      <td>996</td>\n",
       "      <td>False</td>\n",
       "      <td>{'rec-223-org': 0.024132730015082957, 'rec-122...</td>\n",
       "      <td>{'rec-223-org': 0.04198340631907637, 'rec-122-...</td>\n",
       "      <td>{'rec-223-org': 0.2753033421711149, 'rec-122-o...</td>\n",
       "    </tr>\n",
       "    <tr>\n",
       "      <th>5</th>\n",
       "      <td>754</td>\n",
       "      <td>996</td>\n",
       "      <td>False</td>\n",
       "      <td>{'rec-223-org': 0.021248339973439574, 'rec-122...</td>\n",
       "      <td>{'rec-223-org': 0.044167362895774595, 'rec-122...</td>\n",
       "      <td>{'rec-223-org': 0.2553855615788213, 'rec-122-o...</td>\n",
       "    </tr>\n",
       "    <tr>\n",
       "      <th>6</th>\n",
       "      <td>683</td>\n",
       "      <td>996</td>\n",
       "      <td>False</td>\n",
       "      <td>{'rec-223-org': 0.02346041055718475, 'rec-122-...</td>\n",
       "      <td>{'rec-223-org': 0.0428253938771883, 'rec-122-o...</td>\n",
       "      <td>{'rec-223-org': 0.26968410878488086, 'rec-122-...</td>\n",
       "    </tr>\n",
       "    <tr>\n",
       "      <th>7</th>\n",
       "      <td>803</td>\n",
       "      <td>996</td>\n",
       "      <td>False</td>\n",
       "      <td>{'rec-223-org': 0.0199501246882793, 'rec-122-o...</td>\n",
       "      <td>{'rec-223-org': 0.04677612821499882, 'rec-122-...</td>\n",
       "      <td>{'rec-223-org': 0.23804948320425673, 'rec-122-...</td>\n",
       "    </tr>\n",
       "  </tbody>\n",
       "</table>\n",
       "</div>"
      ],
      "text/plain": [
       "   num_nodes  num_edges  connected  \\\n",
       "0        662        996      False   \n",
       "1        740        996      False   \n",
       "2        690        996      False   \n",
       "3        822        996      False   \n",
       "4        664        996      False   \n",
       "5        754        996      False   \n",
       "6        683        996      False   \n",
       "7        803        996      False   \n",
       "\n",
       "                                         degree_cent  \\\n",
       "0  {'rec-223-org': 0.024205748865355523, 'rec-122...   \n",
       "1  {'rec-223-org': 0.02165087956698241, 'rec-122-...   \n",
       "2  {'rec-223-org': 0.023222060957910014, 'rec-122...   \n",
       "3  {'rec-223-org': 0.0194884287454324, 'rec-122-o...   \n",
       "4  {'rec-223-org': 0.024132730015082957, 'rec-122...   \n",
       "5  {'rec-223-org': 0.021248339973439574, 'rec-122...   \n",
       "6  {'rec-223-org': 0.02346041055718475, 'rec-122-...   \n",
       "7  {'rec-223-org': 0.0199501246882793, 'rec-122-o...   \n",
       "\n",
       "                                         betweenness  \\\n",
       "0  {'rec-223-org': 0.04745773944471739, 'rec-122-...   \n",
       "1  {'rec-223-org': 0.05146418050719634, 'rec-122-...   \n",
       "2  {'rec-223-org': 0.04622736779569342, 'rec-122-...   \n",
       "3  {'rec-223-org': 0.051609163630420764, 'rec-122...   \n",
       "4  {'rec-223-org': 0.04198340631907637, 'rec-122-...   \n",
       "5  {'rec-223-org': 0.044167362895774595, 'rec-122...   \n",
       "6  {'rec-223-org': 0.0428253938771883, 'rec-122-o...   \n",
       "7  {'rec-223-org': 0.04677612821499882, 'rec-122-...   \n",
       "\n",
       "                                           closeness  \n",
       "0  {'rec-223-org': 0.2743206913940911, 'rec-122-o...  \n",
       "1  {'rec-223-org': 0.2587759313803971, 'rec-122-o...  \n",
       "2  {'rec-223-org': 0.2674329526093267, 'rec-122-o...  \n",
       "3  {'rec-223-org': 0.23154568806454334, 'rec-122-...  \n",
       "4  {'rec-223-org': 0.2753033421711149, 'rec-122-o...  \n",
       "5  {'rec-223-org': 0.2553855615788213, 'rec-122-o...  \n",
       "6  {'rec-223-org': 0.26968410878488086, 'rec-122-...  \n",
       "7  {'rec-223-org': 0.23804948320425673, 'rec-122-...  "
      ]
     },
     "execution_count": 11,
     "metadata": {},
     "output_type": "execute_result"
    }
   ],
   "source": [
    "graph_assc_results_analysers.get_graph_prop_comparison()"
   ]
  },
  {
   "cell_type": "code",
   "execution_count": null,
   "id": "07d7b9ac",
   "metadata": {},
   "outputs": [],
   "source": []
  },
  {
   "cell_type": "code",
   "execution_count": null,
   "id": "4cf1a59e",
   "metadata": {},
   "outputs": [],
   "source": []
  },
  {
   "cell_type": "code",
   "execution_count": null,
   "id": "f12cfd72",
   "metadata": {},
   "outputs": [],
   "source": []
  },
  {
   "cell_type": "code",
   "execution_count": null,
   "id": "834c4b65",
   "metadata": {},
   "outputs": [],
   "source": []
  }
 ],
 "metadata": {
  "kernelspec": {
   "display_name": "Python 3 (ipykernel)",
   "language": "python",
   "name": "python3"
  },
  "language_info": {
   "codemirror_mode": {
    "name": "ipython",
    "version": 3
   },
   "file_extension": ".py",
   "mimetype": "text/x-python",
   "name": "python",
   "nbconvert_exporter": "python",
   "pygments_lexer": "ipython3",
   "version": "3.8.8"
  }
 },
 "nbformat": 4,
 "nbformat_minor": 5
}
